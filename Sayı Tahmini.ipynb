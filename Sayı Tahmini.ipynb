{
 "cells": [
  {
   "cell_type": "code",
   "execution_count": null,
   "id": "9ab5b4f3",
   "metadata": {},
   "outputs": [],
   "source": [
    "import random"
   ]
  },
  {
   "cell_type": "code",
   "execution_count": 10,
   "id": "1c8baff9",
   "metadata": {},
   "outputs": [
    {
     "name": "stdout",
     "output_type": "stream",
     "text": [
      "KAÇ TANE HAKKINIZ OLSUN: 4\n",
      "TAHMİNİZİ GİRİN: 10\n",
      "AŞAĞI\n",
      "TAHMİNİZİ GİRİN: 8\n",
      "AŞAĞI\n",
      "TAHMİNİZİ GİRİN: 5\n",
      "AŞAĞI\n",
      "TAHMİNİZİ GİRİN: 4\n",
      "TEBRİKLER 4.DEFADA KAZANDIN. TOPLAM PUANINIZ :40\n"
     ]
    }
   ],
   "source": [
    "sayı=random.randrange(10)\n",
    "can=int(input(\"KAÇ TANE HAKKINIZ OLSUN: \"))\n",
    "hak=can\n",
    "sayac=1\n",
    "while hak > 0:\n",
    "    \n",
    "    tahmin=int(input(\"TAHMİNİZİ GİRİN: \"))\n",
    "    \n",
    "  \n",
    "    if tahmin==sayı: \n",
    "        print(f\"TEBRİKLER {sayac}.DEFADA KAZANDIN. TOPLAM PUANINIZ :{100-(20)* (sayac-1)}\")\n",
    "        break\n",
    "    \n",
    "    elif tahmin < sayı:\n",
    "        print(\"YUKARI\")\n",
    "    \n",
    "    else:\n",
    "        print(\"AŞAĞI\")\n",
    "    hak-=1\n",
    "    sayac+=1\n",
    "    \n",
    "    if hak==0:\n",
    "        print(f\"HAKKINIZ BİTTİ : TUTULAN SAYI {sayı}\")"
   ]
  },
  {
   "cell_type": "code",
   "execution_count": null,
   "id": "0d850d60",
   "metadata": {},
   "outputs": [],
   "source": []
  }
 ],
 "metadata": {
  "kernelspec": {
   "display_name": "Python 3 (ipykernel)",
   "language": "python",
   "name": "python3"
  },
  "language_info": {
   "codemirror_mode": {
    "name": "ipython",
    "version": 3
   },
   "file_extension": ".py",
   "mimetype": "text/x-python",
   "name": "python",
   "nbconvert_exporter": "python",
   "pygments_lexer": "ipython3",
   "version": "3.9.7"
  }
 },
 "nbformat": 4,
 "nbformat_minor": 5
}
